{
 "cells": [
  {
   "cell_type": "code",
   "execution_count": 1,
   "metadata": {},
   "outputs": [],
   "source": [
    "from flask import Flask, request, jsonify\n",
    "import pdfplumber\n",
    "from transformers import BartForConditionalGeneration, BartTokenizer\n",
    "import pdfplumber"
   ]
  },
  {
   "cell_type": "code",
   "execution_count": 2,
   "metadata": {},
   "outputs": [],
   "source": [
    "model = BartForConditionalGeneration.from_pretrained(\"facebook/bart-large-cnn\")\n",
    "tokenizer = BartTokenizer.from_pretrained(\"facebook/bart-large-cnn\")"
   ]
  },
  {
   "cell_type": "code",
   "execution_count": 8,
   "metadata": {},
   "outputs": [
    {
     "name": "stdout",
     "output_type": "stream",
     "text": [
      " * Serving Flask app '__main__'\n",
      " * Debug mode: off\n"
     ]
    },
    {
     "name": "stderr",
     "output_type": "stream",
     "text": [
      "WARNING: This is a development server. Do not use it in a production deployment. Use a production WSGI server instead.\n",
      " * Running on all addresses (0.0.0.0)\n",
      " * Running on http://127.0.0.1:5000\n",
      " * Running on http://192.168.4.42:5000\n",
      "Press CTRL+C to quit\n",
      "192.168.4.48 - - [13/Sep/2023 19:06:35] \"POST /summarise HTTP/1.1\" 200 -\n",
      "192.168.4.48 - - [13/Sep/2023 19:09:09] \"POST /summarise HTTP/1.1\" 200 -\n",
      "192.168.4.48 - - [13/Sep/2023 19:12:09] \"POST /summarise HTTP/1.1\" 200 -\n",
      "192.168.4.48 - - [13/Sep/2023 19:12:51] \"POST /summarise HTTP/1.1\" 200 -\n",
      "192.168.4.48 - - [13/Sep/2023 19:49:12] \"POST /summarise HTTP/1.1\" 200 -\n",
      "192.168.4.48 - - [13/Sep/2023 19:49:55] \"POST /summarise HTTP/1.1\" 200 -\n",
      "192.168.4.48 - - [13/Sep/2023 19:52:36] \"POST /summarise HTTP/1.1\" 200 -\n",
      "192.168.4.48 - - [13/Sep/2023 20:01:48] \"POST /summarise HTTP/1.1\" 200 -\n",
      "192.168.4.48 - - [13/Sep/2023 20:01:48] \"POST /summarise HTTP/1.1\" 200 -\n",
      "192.168.4.48 - - [13/Sep/2023 20:05:55] \"POST /summarise HTTP/1.1\" 200 -\n",
      "192.168.4.48 - - [13/Sep/2023 20:15:37] \"POST /summarise HTTP/1.1\" 200 -\n",
      "192.168.4.48 - - [13/Sep/2023 20:15:42] \"POST /summarise HTTP/1.1\" 200 -\n"
     ]
    }
   ],
   "source": [
    "app = Flask(__name__)\n",
    "\n",
    "@app.route('/summarise', methods = [\"POST\"])\n",
    "def summarise():\n",
    "    if 'file' not in request.files:\n",
    "        return jsonify({'error':'No file'})\n",
    "    \n",
    "    file = request.files['file']\n",
    "\n",
    "    if file.filename.endswith(\".pdf\"):\n",
    "        try:\n",
    "            text = extract_text(file)\n",
    "\n",
    "            inputs = tokenizer.encode(\"summarize: \" + text, return_tensors=\"pt\", max_length=1024, truncation=True)\n",
    "            summary_ids = model.generate(inputs, max_length=500, min_length=50, length_penalty=2.0, num_beams=4, early_stopping=True)\n",
    "            summary = tokenizer.decode(summary_ids[0], skip_special_tokens=True)\n",
    "\n",
    "            return jsonify({'summary':summary})\n",
    "        \n",
    "        except Exception as e:\n",
    "            return jsonify({\"error\": str(e)})\n",
    "        \n",
    "    else:\n",
    "        return jsonify({'error': 'Not a PDF'})\n",
    "    \n",
    "def extract_text(file):\n",
    "    with pdfplumber.open(file) as pdf:\n",
    "        text = \"\"\n",
    "        for page in pdf.pages:\n",
    "            text += page.extract_text()\n",
    "            \n",
    "    return text\n",
    "\n",
    "if __name__ == '__main__':\n",
    "    app.run(host='0.0.0.0',port=5000)\n"
   ]
  }
 ],
 "metadata": {
  "kernelspec": {
   "display_name": "Python 3",
   "language": "python",
   "name": "python3"
  },
  "language_info": {
   "codemirror_mode": {
    "name": "ipython",
    "version": 3
   },
   "file_extension": ".py",
   "mimetype": "text/x-python",
   "name": "python",
   "nbconvert_exporter": "python",
   "pygments_lexer": "ipython3",
   "version": "3.10.11"
  },
  "orig_nbformat": 4
 },
 "nbformat": 4,
 "nbformat_minor": 2
}
